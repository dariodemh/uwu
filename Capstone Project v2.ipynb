{
 "cells": [
  {
   "cell_type": "markdown",
   "metadata": {},
   "source": [
    "# **Capstone Project**"
   ]
  },
  {
   "cell_type": "markdown",
   "metadata": {},
   "source": [
    "## Introduction"
   ]
  },
  {
   "cell_type": "markdown",
   "metadata": {},
   "source": [
    "Lima is a city that suffers from numerous traffic accidents that put its citizens in constant danger. Faced with this situation, various solutions have been proposed; however, none of these have proven to be effective or efficient.\n",
    "\n",
    "Given this scenario, the present project, while not seeking to provide a solution to Lima's serious traffic problem, will seek to find patterns in the data that has been found. With this, it is expected that this project will serve as a starting point for more robust research that, using existing data, will propose better solutions."
   ]
  },
  {
   "cell_type": "markdown",
   "metadata": {},
   "source": [
    "## Data"
   ]
  },
  {
   "cell_type": "markdown",
   "metadata": {},
   "source": [
    "In order to carry out the project, data from the city of Lima will have to be used.\n",
    "\n",
    "Thanks to the new initiative of \"Datos Abiertos\", the city has begun to make public many databases, among which there are 3 that will be fundamental for the present project:\n",
    "\n",
    "1. A database of accidents with material damage.\n",
    "2. A database of accidents with injuries.\n",
    "3. A database of accidents with fatalities.\n",
    "\n",
    "Using this data, the types of accidents that are most likely to result in deaths will be analyzed in order to focus the efforts of the municipality on those that are most likely to result in deaths.\n",
    "\n",
    "Clusters will also be used to see if there are any unnoticed relationships that give important insights."
   ]
  },
  {
   "cell_type": "code",
   "execution_count": null,
   "metadata": {},
   "outputs": [],
   "source": []
  }
 ],
 "metadata": {
  "kernelspec": {
   "display_name": "Python 3",
   "language": "python",
   "name": "python3"
  },
  "language_info": {
   "codemirror_mode": {
    "name": "ipython",
    "version": 3
   },
   "file_extension": ".py",
   "mimetype": "text/x-python",
   "name": "python",
   "nbconvert_exporter": "python",
   "pygments_lexer": "ipython3",
   "version": "3.7.6"
  }
 },
 "nbformat": 4,
 "nbformat_minor": 4
}
