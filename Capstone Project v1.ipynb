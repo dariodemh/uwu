{
 "cells": [
  {
   "cell_type": "markdown",
   "metadata": {},
   "source": [
    "# **Capstone Project**"
   ]
  },
  {
   "cell_type": "markdown",
   "metadata": {},
   "source": [
    "## Introduction"
   ]
  },
  {
   "cell_type": "markdown",
   "metadata": {},
   "source": [
    "¿Are there great inequalities between \"Lima Moderna\" and \"Lima Periférica\"?\n",
    "\n",
    "Lima is the Peruvian capital, a city that concentrates much of the economic activies of the country. Thanks to that, the city thrived economically growing each year attracting millions of persons from the countryside and also from another countries.\n",
    "\n",
    "However, this people didn't find an organized city, instead it was a chaotic metropolic that wasn't prepared to host so many people. While the higher-income population could afford housing near the economic center of the city, the so-called \"Lima Moderna\"; millions of Limeños had to resign themselves to living on the outskirts, \"Lima Periférica\".\n",
    "\n",
    "Actually, specially since the impact of COVID-19, we could see how this situation brings great disparities, showing that \"Lima Periférica\" lacks the most basic services for the development of citizens.\n",
    "\n",
    "For this reason, in the present project we will try to analyze if it is possible to evidence these differences, intuitive until now, and measure how public service centers (hospitals, schools, banks, etc.) are decreasing as we move away from Modern Lima.\n",
    "\n",
    "Likewise, it will be verified if this decrease in services responds to criteria of low population density or if it is simply a product of inequality."
   ]
  },
  {
   "cell_type": "markdown",
   "metadata": {},
   "source": [
    "## Data"
   ]
  },
  {
   "cell_type": "markdown",
   "metadata": {},
   "source": [
    "For this purpose, data from Foursquare will be used to locate banks, hospitals, clinics and other services in Lima.\n",
    "\n",
    "We will also seek to use data on Lima's population density by district to discover whether the difference in services is due to a decrease in population or whether it is due to mere inequality. This data will come from public sources, principally, the INEI, which is the Peruvian statistics authority. We are going to use the data to find clusters inside the country and interpret them. This is going to be the principal aspect of the project, but, if it gives us great results, the project will grow to be more precise, maybe including national data about the performance of schools in each district, which will be provided by the MINEDU.\n",
    "\n",
    "Finally, and in order to reach conclusions, we will resort to literature on the differences inside Lima."
   ]
  },
  {
   "cell_type": "markdown",
   "metadata": {},
   "source": [
    "## Code"
   ]
  },
  {
   "cell_type": "markdown",
   "metadata": {},
   "source": [
    "First, we are going to import the basic libraries. More will be added."
   ]
  },
  {
   "cell_type": "code",
   "execution_count": 4,
   "metadata": {},
   "outputs": [],
   "source": [
    "import pandas as pd\n",
    "import numpy as np"
   ]
  },
  {
   "cell_type": "code",
   "execution_count": null,
   "metadata": {},
   "outputs": [],
   "source": []
  }
 ],
 "metadata": {
  "kernelspec": {
   "display_name": "Python 3",
   "language": "python",
   "name": "python3"
  },
  "language_info": {
   "codemirror_mode": {
    "name": "ipython",
    "version": 3
   },
   "file_extension": ".py",
   "mimetype": "text/x-python",
   "name": "python",
   "nbconvert_exporter": "python",
   "pygments_lexer": "ipython3",
   "version": "3.7.6"
  }
 },
 "nbformat": 4,
 "nbformat_minor": 4
}
